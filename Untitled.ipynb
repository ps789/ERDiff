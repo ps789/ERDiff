{
 "cells": [
  {
   "cell_type": "code",
   "execution_count": 1,
   "id": "4fd063ef-b45e-4771-9c59-0765e7ce445b",
   "metadata": {},
   "outputs": [
    {
     "name": "stderr",
     "output_type": "stream",
     "text": [
      "C:\\Users\\phillipsi\\anaconda3\\envs\\erdiff\\lib\\site-packages\\torchvision\\io\\image.py:13: UserWarning: Failed to load image Python extension: '[WinError 127] The specified procedure could not be found'If you don't plan on using image functionality from `torchvision.io`, you can ignore this warning. Otherwise, there might be something wrong with your environment. Did you have `libjpeg` or `libpng` installed before building `torchvision` from source?\n",
      "  warn(\n"
     ]
    }
   ],
   "source": [
    "import numpy as np\n",
    "import scipy.io as sio\n",
    "import matplotlib.pyplot as plt\n",
    "import os\n",
    "import sys\n",
    "from tqdm import tqdm_notebook\n",
    "import logging\n",
    "import pickle\n",
    "import scipy.signal as signal\n",
    "from model_functions.Diffusion import *\n",
    "from model_functions.MLA_Model import *\n",
    "from model_functions.VAE_Readout import *\n",
    "from model_functions.ERDiff_utils import *\n",
    "\n",
    "import torch\n",
    "import torch.nn.functional as F\n",
    "import torch.nn as nn\n",
    "from torch.autograd import Variable\n",
    "from torch import autograd\n",
    "import numpy as np\n",
    "import scipy.io as sio\n",
    "import matplotlib.pyplot as plt\n",
    "import os\n",
    "import sys\n",
    "from tqdm import tqdm_notebook\n",
    "\n",
    "logger = logging.getLogger('train_logger')\n",
    "logger.setLevel(level=logging.INFO)\n",
    "handler = logging.FileHandler('train.log')\n",
    "handler.setLevel(logging.INFO)\n",
    "formatter = logging.Formatter('%(asctime)s - %(name)s - %(levelname)s - %(message)s')\n",
    "handler.setFormatter(formatter)\n",
    "logger.addHandler(handler)\n",
    "# logger.addHandler(console)\n",
    "logger.info('python logging test')\n",
    "\n",
    "len_trial, num_neurons_s, num_neurons_t = 37, 187, 172\n",
    "\n",
    "with open('datasets/Neural_Source.pkl', 'rb') as f:\n",
    "    train_data1 = pickle.load(f)['data']\n",
    "\n",
    "with open('datasets/Neural_Target.pkl', 'rb') as f:\n",
    "    test_data = pickle.load(f)['data']"
   ]
  },
  {
   "cell_type": "code",
   "execution_count": 4,
   "id": "e1264efa-1955-4256-bfdc-b52fd8964738",
   "metadata": {},
   "outputs": [
    {
     "name": "stdout",
     "output_type": "stream",
     "text": [
      "dict_keys(['firing_rates', 'position', 'velocity', 'acceleration', 'force', 'labels', 'sequence'])\n"
     ]
    }
   ],
   "source": [
    "print(train_data1.keys())"
   ]
  },
  {
   "cell_type": "code",
   "execution_count": 34,
   "id": "d39a1e2d-85af-4bf4-93fa-31ad8619cc1d",
   "metadata": {},
   "outputs": [
    {
     "data": {
      "text/plain": [
       "array([[0.],\n",
       "       [0.],\n",
       "       [0.],\n",
       "       [0.],\n",
       "       [0.],\n",
       "       [0.],\n",
       "       [0.],\n",
       "       [0.],\n",
       "       [0.],\n",
       "       [0.],\n",
       "       [0.],\n",
       "       [0.],\n",
       "       [0.],\n",
       "       [0.],\n",
       "       [0.],\n",
       "       [0.],\n",
       "       [0.],\n",
       "       [0.],\n",
       "       [0.],\n",
       "       [0.],\n",
       "       [0.],\n",
       "       [0.],\n",
       "       [0.],\n",
       "       [0.],\n",
       "       [0.],\n",
       "       [0.],\n",
       "       [0.],\n",
       "       [0.],\n",
       "       [0.],\n",
       "       [0.],\n",
       "       [0.],\n",
       "       [0.],\n",
       "       [0.],\n",
       "       [0.],\n",
       "       [0.],\n",
       "       [0.],\n",
       "       [0.],\n",
       "       [0.],\n",
       "       [0.],\n",
       "       [0.],\n",
       "       [0.],\n",
       "       [0.],\n",
       "       [0.],\n",
       "       [0.],\n",
       "       [0.],\n",
       "       [0.],\n",
       "       [0.],\n",
       "       [0.],\n",
       "       [0.]])"
      ]
     },
     "execution_count": 34,
     "metadata": {},
     "output_type": "execute_result"
    }
   ],
   "source": [
    "test_data['labels'][7]"
   ]
  },
  {
   "cell_type": "code",
   "execution_count": null,
   "id": "3eadb6b4-c457-4e95-b37d-1784ac4ea640",
   "metadata": {},
   "outputs": [],
   "source": []
  }
 ],
 "metadata": {
  "kernelspec": {
   "display_name": "Python 3 (ipykernel)",
   "language": "python",
   "name": "python3"
  },
  "language_info": {
   "codemirror_mode": {
    "name": "ipython",
    "version": 3
   },
   "file_extension": ".py",
   "mimetype": "text/x-python",
   "name": "python",
   "nbconvert_exporter": "python",
   "pygments_lexer": "ipython3",
   "version": "3.9.18"
  }
 },
 "nbformat": 4,
 "nbformat_minor": 5
}
